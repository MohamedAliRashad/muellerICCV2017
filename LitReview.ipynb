{
 "cells": [
  {
   "cell_type": "code",
   "execution_count": null,
   "metadata": {},
   "outputs": [],
   "source": []
  },
  {
   "cell_type": "code",
   "execution_count": 25,
   "metadata": {},
   "outputs": [],
   "source": [
    "approaches = ['CNN', 'Transduction_Forest', 'GAN', 'VAE', 'GP']"
   ]
  },
  {
   "cell_type": "code",
   "execution_count": 26,
   "metadata": {},
   "outputs": [],
   "source": [
    "datasets = ['BigHand', 'SynthHands', 'EgoDexter']"
   ]
  },
  {
   "cell_type": "code",
   "execution_count": 27,
   "metadata": {},
   "outputs": [],
   "source": [
    "groups = ['Imperial_College', 'MaxPlank']"
   ]
  },
  {
   "cell_type": "code",
   "execution_count": 28,
   "metadata": {},
   "outputs": [],
   "source": [
    "read = ['YuanCVPR2018']"
   ]
  },
  {
   "cell_type": "code",
   "execution_count": 29,
   "metadata": {},
   "outputs": [],
   "source": [
    "citeKey2groups = {\n",
    "    'YuanCVPR2018a': ['Imperial_College', 'Rakuten', 'University_Crete',\n",
    "                      'Seoul_national_University', 'Kwangwoon_University',\n",
    "                      'NVIDIA', 'University_Montreal',\n",
    "                     'Nanyang_University', 'State_University_New_York_Buffalo',\n",
    "                     'Tsinghua_University', 'Nara_Institute', 'Fudan_University',\n",
    "                     'Computer_Vision_Center', 'University_Barcelona',\n",
    "                     'TUM', 'German_Aerospace_Center']\n",
    "}"
   ]
  },
  {
   "cell_type": "code",
   "execution_count": 30,
   "metadata": {},
   "outputs": [],
   "source": [
    "citeKey2title = {\n",
    "    'YuanCVPR2018a': 'Depth-Based 3D Hand Pose Estimation: From Current Achievements to Future Goals',\n",
    "    'MuellerCVPR2017': 'Real-Time Hand Tracking under Occlusion from an Egocentric RGB-D Sensor',\n",
    "    'Garcia-HernandoCVPR2018': 'First-Person Hand Action Benchmark with RGB-D Videos and 3D Hand Pose Annotations',\n",
    "    \n",
    "    \n",
    "    \n",
    "}"
   ]
  },
  {
   "cell_type": "code",
   "execution_count": 31,
   "metadata": {},
   "outputs": [],
   "source": [
    "cites = {\n",
    "    'YuanCVPR2018a': ['Garcia-HernandoCVPR2018', 'GeCVPR2017', 'OberwegerCVWW2015',\n",
    "                     'OberwegerICCV2015', 'OberwegerICCVWork2017', 'WanCVPR2017']\n",
    "}"
   ]
  },
  {
   "cell_type": "code",
   "execution_count": null,
   "metadata": {},
   "outputs": [],
   "source": []
  },
  {
   "cell_type": "code",
   "execution_count": null,
   "metadata": {},
   "outputs": [],
   "source": []
  }
 ],
 "metadata": {
  "kernelspec": {
   "display_name": "Python 3",
   "language": "python",
   "name": "python3"
  },
  "language_info": {
   "codemirror_mode": {
    "name": "ipython",
    "version": 3
   },
   "file_extension": ".py",
   "mimetype": "text/x-python",
   "name": "python",
   "nbconvert_exporter": "python",
   "pygments_lexer": "ipython3",
   "version": "3.6.4"
  }
 },
 "nbformat": 4,
 "nbformat_minor": 2
}
